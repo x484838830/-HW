{
  "nbformat": 4,
  "nbformat_minor": 0,
  "metadata": {
    "colab": {
      "provenance": []
    },
    "kernelspec": {
      "name": "python3",
      "display_name": "Python 3"
    },
    "language_info": {
      "name": "python"
    }
  },
  "cells": [
    {
      "cell_type": "code",
      "source": [
        "!pip install yfinance"
      ],
      "metadata": {
        "colab": {
          "base_uri": "https://localhost:8080/"
        },
        "id": "0ruQPevSIpsN",
        "outputId": "67802e59-7bb9-4891-a849-72725309a74b"
      },
      "execution_count": 34,
      "outputs": [
        {
          "output_type": "stream",
          "name": "stdout",
          "text": [
            "Looking in indexes: https://pypi.org/simple, https://us-python.pkg.dev/colab-wheels/public/simple/\n",
            "Requirement already satisfied: yfinance in /usr/local/lib/python3.7/dist-packages (0.1.87)\n",
            "Requirement already satisfied: appdirs>=1.4.4 in /usr/local/lib/python3.7/dist-packages (from yfinance) (1.4.4)\n",
            "Requirement already satisfied: pandas>=0.24.0 in /usr/local/lib/python3.7/dist-packages (from yfinance) (1.3.5)\n",
            "Requirement already satisfied: multitasking>=0.0.7 in /usr/local/lib/python3.7/dist-packages (from yfinance) (0.0.11)\n",
            "Requirement already satisfied: lxml>=4.5.1 in /usr/local/lib/python3.7/dist-packages (from yfinance) (4.9.1)\n",
            "Requirement already satisfied: requests>=2.26 in /usr/local/lib/python3.7/dist-packages (from yfinance) (2.28.1)\n",
            "Requirement already satisfied: numpy>=1.15 in /usr/local/lib/python3.7/dist-packages (from yfinance) (1.21.6)\n",
            "Requirement already satisfied: python-dateutil>=2.7.3 in /usr/local/lib/python3.7/dist-packages (from pandas>=0.24.0->yfinance) (2.8.2)\n",
            "Requirement already satisfied: pytz>=2017.3 in /usr/local/lib/python3.7/dist-packages (from pandas>=0.24.0->yfinance) (2022.6)\n",
            "Requirement already satisfied: six>=1.5 in /usr/local/lib/python3.7/dist-packages (from python-dateutil>=2.7.3->pandas>=0.24.0->yfinance) (1.15.0)\n",
            "Requirement already satisfied: charset-normalizer<3,>=2 in /usr/local/lib/python3.7/dist-packages (from requests>=2.26->yfinance) (2.1.1)\n",
            "Requirement already satisfied: idna<4,>=2.5 in /usr/local/lib/python3.7/dist-packages (from requests>=2.26->yfinance) (2.10)\n",
            "Requirement already satisfied: certifi>=2017.4.17 in /usr/local/lib/python3.7/dist-packages (from requests>=2.26->yfinance) (2022.9.24)\n",
            "Requirement already satisfied: urllib3<1.27,>=1.21.1 in /usr/local/lib/python3.7/dist-packages (from requests>=2.26->yfinance) (1.24.3)\n"
          ]
        }
      ]
    },
    {
      "cell_type": "code",
      "source": [
        "import yfinance as yf\n",
        "\n",
        "msft = yf.Ticker(\"AAPL\")\n",
        "\n",
        "# get stock info\n",
        "msft.info\n",
        "\n",
        "# get historical market data\n",
        "hist = msft.history(period=\"1y\")"
      ],
      "metadata": {
        "id": "Vpc5RoWhIvxy"
      },
      "execution_count": 35,
      "outputs": []
    },
    {
      "cell_type": "code",
      "source": [
        "hist.reset_index(inplace=True) #將Index轉成Column\n",
        "hist = hist.rename(columns = {'Date':'Date'})\n",
        "\n",
        "\n",
        "data = hist[[\"Close\", \"Volume\",'Date']]\n",
        "print(data)"
      ],
      "metadata": {
        "colab": {
          "base_uri": "https://localhost:8080/"
        },
        "id": "4dBLM-F8IxoR",
        "outputId": "67811b19-e599-4a22-a24e-d70e9bf86686"
      },
      "execution_count": 36,
      "outputs": [
        {
          "output_type": "stream",
          "name": "stdout",
          "text": [
            "          Close     Volume                      Date\n",
            "0    159.315369   88748200 2021-11-29 00:00:00-05:00\n",
            "1    164.346176  174048100 2021-11-30 00:00:00-05:00\n",
            "2    163.819244  152052500 2021-12-01 00:00:00-05:00\n",
            "3    162.815063  136739200 2021-12-02 00:00:00-05:00\n",
            "4    160.906128  118023100 2021-12-03 00:00:00-05:00\n",
            "..          ...        ...                       ...\n",
            "247  148.009995   58724100 2022-11-21 00:00:00-05:00\n",
            "248  150.179993   51804100 2022-11-22 00:00:00-05:00\n",
            "249  151.070007   58301400 2022-11-23 00:00:00-05:00\n",
            "250  148.110001   35195900 2022-11-25 00:00:00-05:00\n",
            "251  144.220001   69246000 2022-11-28 00:00:00-05:00\n",
            "\n",
            "[252 rows x 3 columns]\n"
          ]
        }
      ]
    },
    {
      "cell_type": "code",
      "source": [
        "import pandas as pd\n",
        "\n",
        "data = pd.DataFrame(data)\n",
        "data.to_csv('data1.csv', index = False)\n"
      ],
      "metadata": {
        "id": "ykm46k_-2ojE"
      },
      "execution_count": 37,
      "outputs": []
    },
    {
      "cell_type": "code",
      "source": [
        "data = pd.read_csv('data1.csv')\n",
        "data"
      ],
      "metadata": {
        "colab": {
          "base_uri": "https://localhost:8080/",
          "height": 424
        },
        "id": "TM1Dm4vH3I8u",
        "outputId": "4e59d569-aab8-4a54-a943-0ed554dd59b4"
      },
      "execution_count": 38,
      "outputs": [
        {
          "output_type": "execute_result",
          "data": {
            "text/plain": [
              "          Close     Volume                       Date\n",
              "0    159.315369   88748200  2021-11-29 00:00:00-05:00\n",
              "1    164.346176  174048100  2021-11-30 00:00:00-05:00\n",
              "2    163.819244  152052500  2021-12-01 00:00:00-05:00\n",
              "3    162.815063  136739200  2021-12-02 00:00:00-05:00\n",
              "4    160.906128  118023100  2021-12-03 00:00:00-05:00\n",
              "..          ...        ...                        ...\n",
              "247  148.009995   58724100  2022-11-21 00:00:00-05:00\n",
              "248  150.179993   51804100  2022-11-22 00:00:00-05:00\n",
              "249  151.070007   58301400  2022-11-23 00:00:00-05:00\n",
              "250  148.110001   35195900  2022-11-25 00:00:00-05:00\n",
              "251  144.220001   69246000  2022-11-28 00:00:00-05:00\n",
              "\n",
              "[252 rows x 3 columns]"
            ],
            "text/html": [
              "\n",
              "  <div id=\"df-dca43c7b-2ed6-4b3a-ab1e-1f1ca6c4e0e7\">\n",
              "    <div class=\"colab-df-container\">\n",
              "      <div>\n",
              "<style scoped>\n",
              "    .dataframe tbody tr th:only-of-type {\n",
              "        vertical-align: middle;\n",
              "    }\n",
              "\n",
              "    .dataframe tbody tr th {\n",
              "        vertical-align: top;\n",
              "    }\n",
              "\n",
              "    .dataframe thead th {\n",
              "        text-align: right;\n",
              "    }\n",
              "</style>\n",
              "<table border=\"1\" class=\"dataframe\">\n",
              "  <thead>\n",
              "    <tr style=\"text-align: right;\">\n",
              "      <th></th>\n",
              "      <th>Close</th>\n",
              "      <th>Volume</th>\n",
              "      <th>Date</th>\n",
              "    </tr>\n",
              "  </thead>\n",
              "  <tbody>\n",
              "    <tr>\n",
              "      <th>0</th>\n",
              "      <td>159.315369</td>\n",
              "      <td>88748200</td>\n",
              "      <td>2021-11-29 00:00:00-05:00</td>\n",
              "    </tr>\n",
              "    <tr>\n",
              "      <th>1</th>\n",
              "      <td>164.346176</td>\n",
              "      <td>174048100</td>\n",
              "      <td>2021-11-30 00:00:00-05:00</td>\n",
              "    </tr>\n",
              "    <tr>\n",
              "      <th>2</th>\n",
              "      <td>163.819244</td>\n",
              "      <td>152052500</td>\n",
              "      <td>2021-12-01 00:00:00-05:00</td>\n",
              "    </tr>\n",
              "    <tr>\n",
              "      <th>3</th>\n",
              "      <td>162.815063</td>\n",
              "      <td>136739200</td>\n",
              "      <td>2021-12-02 00:00:00-05:00</td>\n",
              "    </tr>\n",
              "    <tr>\n",
              "      <th>4</th>\n",
              "      <td>160.906128</td>\n",
              "      <td>118023100</td>\n",
              "      <td>2021-12-03 00:00:00-05:00</td>\n",
              "    </tr>\n",
              "    <tr>\n",
              "      <th>...</th>\n",
              "      <td>...</td>\n",
              "      <td>...</td>\n",
              "      <td>...</td>\n",
              "    </tr>\n",
              "    <tr>\n",
              "      <th>247</th>\n",
              "      <td>148.009995</td>\n",
              "      <td>58724100</td>\n",
              "      <td>2022-11-21 00:00:00-05:00</td>\n",
              "    </tr>\n",
              "    <tr>\n",
              "      <th>248</th>\n",
              "      <td>150.179993</td>\n",
              "      <td>51804100</td>\n",
              "      <td>2022-11-22 00:00:00-05:00</td>\n",
              "    </tr>\n",
              "    <tr>\n",
              "      <th>249</th>\n",
              "      <td>151.070007</td>\n",
              "      <td>58301400</td>\n",
              "      <td>2022-11-23 00:00:00-05:00</td>\n",
              "    </tr>\n",
              "    <tr>\n",
              "      <th>250</th>\n",
              "      <td>148.110001</td>\n",
              "      <td>35195900</td>\n",
              "      <td>2022-11-25 00:00:00-05:00</td>\n",
              "    </tr>\n",
              "    <tr>\n",
              "      <th>251</th>\n",
              "      <td>144.220001</td>\n",
              "      <td>69246000</td>\n",
              "      <td>2022-11-28 00:00:00-05:00</td>\n",
              "    </tr>\n",
              "  </tbody>\n",
              "</table>\n",
              "<p>252 rows × 3 columns</p>\n",
              "</div>\n",
              "      <button class=\"colab-df-convert\" onclick=\"convertToInteractive('df-dca43c7b-2ed6-4b3a-ab1e-1f1ca6c4e0e7')\"\n",
              "              title=\"Convert this dataframe to an interactive table.\"\n",
              "              style=\"display:none;\">\n",
              "        \n",
              "  <svg xmlns=\"http://www.w3.org/2000/svg\" height=\"24px\"viewBox=\"0 0 24 24\"\n",
              "       width=\"24px\">\n",
              "    <path d=\"M0 0h24v24H0V0z\" fill=\"none\"/>\n",
              "    <path d=\"M18.56 5.44l.94 2.06.94-2.06 2.06-.94-2.06-.94-.94-2.06-.94 2.06-2.06.94zm-11 1L8.5 8.5l.94-2.06 2.06-.94-2.06-.94L8.5 2.5l-.94 2.06-2.06.94zm10 10l.94 2.06.94-2.06 2.06-.94-2.06-.94-.94-2.06-.94 2.06-2.06.94z\"/><path d=\"M17.41 7.96l-1.37-1.37c-.4-.4-.92-.59-1.43-.59-.52 0-1.04.2-1.43.59L10.3 9.45l-7.72 7.72c-.78.78-.78 2.05 0 2.83L4 21.41c.39.39.9.59 1.41.59.51 0 1.02-.2 1.41-.59l7.78-7.78 2.81-2.81c.8-.78.8-2.07 0-2.86zM5.41 20L4 18.59l7.72-7.72 1.47 1.35L5.41 20z\"/>\n",
              "  </svg>\n",
              "      </button>\n",
              "      \n",
              "  <style>\n",
              "    .colab-df-container {\n",
              "      display:flex;\n",
              "      flex-wrap:wrap;\n",
              "      gap: 12px;\n",
              "    }\n",
              "\n",
              "    .colab-df-convert {\n",
              "      background-color: #E8F0FE;\n",
              "      border: none;\n",
              "      border-radius: 50%;\n",
              "      cursor: pointer;\n",
              "      display: none;\n",
              "      fill: #1967D2;\n",
              "      height: 32px;\n",
              "      padding: 0 0 0 0;\n",
              "      width: 32px;\n",
              "    }\n",
              "\n",
              "    .colab-df-convert:hover {\n",
              "      background-color: #E2EBFA;\n",
              "      box-shadow: 0px 1px 2px rgba(60, 64, 67, 0.3), 0px 1px 3px 1px rgba(60, 64, 67, 0.15);\n",
              "      fill: #174EA6;\n",
              "    }\n",
              "\n",
              "    [theme=dark] .colab-df-convert {\n",
              "      background-color: #3B4455;\n",
              "      fill: #D2E3FC;\n",
              "    }\n",
              "\n",
              "    [theme=dark] .colab-df-convert:hover {\n",
              "      background-color: #434B5C;\n",
              "      box-shadow: 0px 1px 3px 1px rgba(0, 0, 0, 0.15);\n",
              "      filter: drop-shadow(0px 1px 2px rgba(0, 0, 0, 0.3));\n",
              "      fill: #FFFFFF;\n",
              "    }\n",
              "  </style>\n",
              "\n",
              "      <script>\n",
              "        const buttonEl =\n",
              "          document.querySelector('#df-dca43c7b-2ed6-4b3a-ab1e-1f1ca6c4e0e7 button.colab-df-convert');\n",
              "        buttonEl.style.display =\n",
              "          google.colab.kernel.accessAllowed ? 'block' : 'none';\n",
              "\n",
              "        async function convertToInteractive(key) {\n",
              "          const element = document.querySelector('#df-dca43c7b-2ed6-4b3a-ab1e-1f1ca6c4e0e7');\n",
              "          const dataTable =\n",
              "            await google.colab.kernel.invokeFunction('convertToInteractive',\n",
              "                                                     [key], {});\n",
              "          if (!dataTable) return;\n",
              "\n",
              "          const docLinkHtml = 'Like what you see? Visit the ' +\n",
              "            '<a target=\"_blank\" href=https://colab.research.google.com/notebooks/data_table.ipynb>data table notebook</a>'\n",
              "            + ' to learn more about interactive tables.';\n",
              "          element.innerHTML = '';\n",
              "          dataTable['output_type'] = 'display_data';\n",
              "          await google.colab.output.renderOutput(dataTable, element);\n",
              "          const docLink = document.createElement('div');\n",
              "          docLink.innerHTML = docLinkHtml;\n",
              "          element.appendChild(docLink);\n",
              "        }\n",
              "      </script>\n",
              "    </div>\n",
              "  </div>\n",
              "  "
            ]
          },
          "metadata": {},
          "execution_count": 38
        }
      ]
    },
    {
      "cell_type": "code",
      "source": [
        "data['Close']"
      ],
      "metadata": {
        "colab": {
          "base_uri": "https://localhost:8080/"
        },
        "id": "joqqgAJY3Xgs",
        "outputId": "00f867cc-62db-49f1-df4e-3c35381e6a26"
      },
      "execution_count": 39,
      "outputs": [
        {
          "output_type": "execute_result",
          "data": {
            "text/plain": [
              "0      159.315369\n",
              "1      164.346176\n",
              "2      163.819244\n",
              "3      162.815063\n",
              "4      160.906128\n",
              "          ...    \n",
              "247    148.009995\n",
              "248    150.179993\n",
              "249    151.070007\n",
              "250    148.110001\n",
              "251    144.220001\n",
              "Name: Close, Length: 252, dtype: float64"
            ]
          },
          "metadata": {},
          "execution_count": 39
        }
      ]
    },
    {
      "cell_type": "code",
      "source": [
        "data_date = list(hist[[\"Date\"]].iloc[:, 0]) #交易日期\n",
        "data_close = list(hist[[\"Close\"]].iloc[:, 0])#收盤價格\n",
        "data_volume = list(hist[[\"Volume\"]].iloc[:, 0])#成交量"
      ],
      "metadata": {
        "id": "9076em0OgST4"
      },
      "execution_count": 44,
      "outputs": []
    },
    {
      "cell_type": "code",
      "source": [
        "V0 = hist[\"Volume\"].mean()"
      ],
      "metadata": {
        "id": "evogtKG-KVN2"
      },
      "execution_count": 41,
      "outputs": []
    },
    {
      "cell_type": "code",
      "source": [
        "#做價差\n",
        "dif_close=[]\n",
        "dif_date=[]\n",
        "for i in range(len(data)-1,-1,-1): #由後面到前面\n",
        "  v_sum=0\n",
        "  for j in range(i-1,-1,-1):\n",
        "    v_sum=0\n",
        "    if (v_sum < V0):\n",
        "      v_sum = v_sum + data.iloc[i, 1]  #累加 v_sum\n",
        "      Spread = data['Close'][i]-data['Close'][j] #算價差 ＝ Spread\n",
        "      dif_close.append(Spread) #將Spread加入dif_close\n",
        "      dif_date.append([(data_date[(data_close.index(max(data_close)))]), (data_date[(data_close.index(min(data_close)))])]) #抓出日期\n",
        "    else:\n",
        "      v_sum = 0                         #若v_sum大於V0 初始化v_sum\n",
        "      break                             #跳出迴圈\n",
        "\n",
        "\n",
        "print('max(dif_close) = ',max(dif_close))\n",
        "print('dif_date = ',dif_date[0])\n",
        "\n"
      ],
      "metadata": {
        "colab": {
          "base_uri": "https://localhost:8080/"
        },
        "id": "Qdd8NJz2v7Z1",
        "outputId": "66ee1665-7c8e-41e1-b59c-6455cd2b5f9d"
      },
      "execution_count": 48,
      "outputs": [
        {
          "output_type": "stream",
          "name": "stdout",
          "text": [
            "max(dif_close) =  44.596435546875\n",
            "dif_date =  [Timestamp('2022-01-03 00:00:00-0500', tz='America/New_York'), Timestamp('2022-06-16 00:00:00-0400', tz='America/New_York')]\n"
          ]
        }
      ]
    }
  ]
}